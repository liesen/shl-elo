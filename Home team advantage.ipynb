{
 "cells": [
  {
   "cell_type": "markdown",
   "metadata": {},
   "source": [
    "# Analysis of home team advantage for Elo ratings in SHL\n",
    "\n",
    "Good explanations on how to calculate home team advantage:\n",
    "\n",
    "* https://docs.google.com/file/d/0Bxr6KEe4KY_OYnJuLUw1WF9GcGs/edit (from http://wsasu.blogspot.se/)\n",
    "* http://clubelo.com/Articles/HomeFieldAdvantage.html"
   ]
  },
  {
   "cell_type": "code",
   "execution_count": 1,
   "metadata": {
    "collapsed": false
   },
   "outputs": [
    {
     "name": "stdout",
     "output_type": "stream",
     "text": [
      "Populating the interactive namespace from numpy and matplotlib\n"
     ]
    }
   ],
   "source": [
    "%pylab inline\n",
    "import pandas as pd"
   ]
  },
  {
   "cell_type": "code",
   "execution_count": 2,
   "metadata": {
    "collapsed": false
   },
   "outputs": [],
   "source": [
    "import glob\n",
    "df = pd.concat([pd.read_csv(path, encoding='utf-8') for path in glob.glob('data/*.csv')])\n",
    "df.sort(['Season', 'Game type', 'Date', 'Home', 'Visitor'], inplace=True)"
   ]
  },
  {
   "cell_type": "markdown",
   "metadata": {},
   "source": [
    "# Home team advantage\n",
    "\n",
    "If $y$ is the ratio between home team points and the total number of points, then\n",
    "\n",
    "$y = {1 \\over {1 + 10^{(B - (A + x) / 400}}} \\implies x = \\frac{-400 ln(\\frac{1}{y - 1})}{ln 10}$\n",
    "\n",
    "... where $x$ is the number of Elo points corresponding to home team advantage."
   ]
  },
  {
   "cell_type": "code",
   "execution_count": 3,
   "metadata": {
    "collapsed": false
   },
   "outputs": [],
   "source": [
    "def home_team_points(x):\n",
    "    # Home team win\n",
    "    if x['HS'] > x['VS']:\n",
    "        if x['Dec'] in ['SO', 'OT']:\n",
    "            return 2\n",
    "        \n",
    "        return 3\n",
    "    \n",
    "    # Home team loss\n",
    "    if x['HS'] < x['VS']:\n",
    "        if x['Dec'] in ['SO', 'OT']:\n",
    "            return 1\n",
    "        \n",
    "        return 0\n",
    "    \n",
    "    # Draw\n",
    "    return 1"
   ]
  },
  {
   "cell_type": "code",
   "execution_count": 4,
   "metadata": {
    "collapsed": false
   },
   "outputs": [],
   "source": [
    "def home_team_advantage(df):\n",
    "    y = 1. * df.apply(home_team_points, axis=1).sum() / (len(df) * 3)\n",
    "    return (-400 * log(1. / y - 1)) / log(10)"
   ]
  },
  {
   "cell_type": "markdown",
   "metadata": {},
   "source": [
    "## Home team advantage per season"
   ]
  },
  {
   "cell_type": "code",
   "execution_count": 5,
   "metadata": {
    "collapsed": false
   },
   "outputs": [
    {
     "data": {
      "text/html": [
       "<div style=\"max-height:1000px;max-width:1500px;overflow:auto;\">\n",
       "<table border=\"1\" class=\"dataframe\">\n",
       "  <thead>\n",
       "    <tr style=\"text-align: right;\">\n",
       "      <th></th>\n",
       "      <th>Home team advantage</th>\n",
       "    </tr>\n",
       "    <tr>\n",
       "      <th>Season</th>\n",
       "      <th></th>\n",
       "    </tr>\n",
       "  </thead>\n",
       "  <tbody>\n",
       "    <tr>\n",
       "      <th>2006</th>\n",
       "      <td> 59.534697</td>\n",
       "    </tr>\n",
       "    <tr>\n",
       "      <th>2007</th>\n",
       "      <td> 47.317019</td>\n",
       "    </tr>\n",
       "    <tr>\n",
       "      <th>2008</th>\n",
       "      <td> 70.436504</td>\n",
       "    </tr>\n",
       "    <tr>\n",
       "      <th>2009</th>\n",
       "      <td> 75.569948</td>\n",
       "    </tr>\n",
       "    <tr>\n",
       "      <th>2010</th>\n",
       "      <td> 66.788369</td>\n",
       "    </tr>\n",
       "    <tr>\n",
       "      <th>2011</th>\n",
       "      <td> 48.747802</td>\n",
       "    </tr>\n",
       "    <tr>\n",
       "      <th>2012</th>\n",
       "      <td> 26.018462</td>\n",
       "    </tr>\n",
       "    <tr>\n",
       "      <th>2013</th>\n",
       "      <td> 16.155104</td>\n",
       "    </tr>\n",
       "    <tr>\n",
       "      <th>2014</th>\n",
       "      <td> 75.569948</td>\n",
       "    </tr>\n",
       "  </tbody>\n",
       "</table>\n",
       "</div>"
      ],
      "text/plain": [
       "        Home team advantage\n",
       "Season                     \n",
       "2006              59.534697\n",
       "2007              47.317019\n",
       "2008              70.436504\n",
       "2009              75.569948\n",
       "2010              66.788369\n",
       "2011              48.747802\n",
       "2012              26.018462\n",
       "2013              16.155104\n",
       "2014              75.569948"
      ]
     },
     "execution_count": 5,
     "metadata": {},
     "output_type": "execute_result"
    }
   ],
   "source": [
    "pd.DataFrame(df[df['Game type'] == 'SHL'].groupby('Season').apply(home_team_advantage),\n",
    "             columns=['Home team advantage'])"
   ]
  },
  {
   "cell_type": "markdown",
   "metadata": {},
   "source": [
    "## Home team advantage, all time"
   ]
  },
  {
   "cell_type": "code",
   "execution_count": 6,
   "metadata": {
    "collapsed": false
   },
   "outputs": [
    {
     "data": {
      "text/plain": [
       "53.84870751579318"
      ]
     },
     "execution_count": 6,
     "metadata": {},
     "output_type": "execute_result"
    }
   ],
   "source": [
    "home_team_advantage(df[df['Game type'] == 'SHL'])"
   ]
  },
  {
   "cell_type": "code",
   "execution_count": null,
   "metadata": {
    "collapsed": true
   },
   "outputs": [],
   "source": []
  }
 ],
 "metadata": {
  "kernelspec": {
   "display_name": "Python 2",
   "language": "python",
   "name": "python2"
  },
  "language_info": {
   "codemirror_mode": {
    "name": "ipython",
    "version": 2
   },
   "file_extension": ".py",
   "mimetype": "text/x-python",
   "name": "python",
   "nbconvert_exporter": "python",
   "pygments_lexer": "ipython2",
   "version": "2.7.9"
  }
 },
 "nbformat": 4,
 "nbformat_minor": 0
}
